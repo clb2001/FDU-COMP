{
 "cells": [
  {
   "cell_type": "code",
   "execution_count": null,
   "id": "7227a417",
   "metadata": {},
   "outputs": [],
   "source": [
    "# --- Before your go ----\n",
    "# 1. Rename Assignment-02-###.ipynb where ### is your student ID.\n",
    "# 2. The deadline of Assignment-02 is 23:59pm, 04-18-2023\n"
   ]
  },
  {
   "cell_type": "code",
   "execution_count": null,
   "id": "47cabc0d",
   "metadata": {},
   "outputs": [],
   "source": [
    "# In this assignment, you will use word embeddings to explore our Wikipedia dataset.\n"
   ]
  },
  {
   "cell_type": "code",
   "execution_count": null,
   "id": "d82a32d2",
   "metadata": {},
   "outputs": [],
   "source": [
    "# Task 1 --- Train word embeddings using SGNS ---\n",
    "# Use our enwiki-train.json as training data. \n",
    "# You can use the Gensim tool (https://radimrehurek.com/gensim/models/word2vec.html). \n",
    "# But it is recommended to implement by yourself.\n",
    "# You should explain how hyper-parameters such as dimensionality of embeddings, window size, \n",
    "# the parameter of negative sampling strategy, and initial learning rate have been chosen.\n",
    "\n",
    "# Your code\n"
   ]
  },
  {
   "cell_type": "code",
   "execution_count": null,
   "id": "974f4753",
   "metadata": {},
   "outputs": [],
   "source": [
    "# Task 2 --- Find similar/dissimilar word pairs ---\n",
    "# Randomly generate 100, 1000, and 10000-word pairs from the vocabularies. \n",
    "# For each set, print 5 closest word pairs and 5 furthest word pairs \n",
    "# (you can use cosine-similarity to measure two words). Explain your findings.\n",
    "\n",
    "# Your code\n"
   ]
  },
  {
   "cell_type": "code",
   "execution_count": null,
   "id": "4ccebe0c",
   "metadata": {},
   "outputs": [],
   "source": [
    "# Task 3 --- Present a document as an embedding ---\n",
    "# For each document, you have several choices to generate document embedding:\n",
    "# 1. Use the average of embeddings of all words in each document.\n",
    "# 2. Use the first paragraph’s words and take an average on these embeddings.\n",
    "# 3. Use the doc2vec algorithm to present each document.\n",
    "# Do the above for both training and testing dataset\n",
    "\n",
    "# Your code"
   ]
  },
  {
   "cell_type": "code",
   "execution_count": null,
   "id": "c9ee569e",
   "metadata": {},
   "outputs": [],
   "source": [
    "# Task 4 --- Build classifier to test docs ---\n",
    "# Build softmax regression model to classifier testing documents based on \n",
    "# these training doc embeddings. Does it getting better than Naive Bayes'?\n",
    "# (You have 3 models.)\n",
    "\n",
    "# Your code"
   ]
  },
  {
   "cell_type": "code",
   "execution_count": null,
   "id": "65d37f8a",
   "metadata": {},
   "outputs": [],
   "source": [
    "# Task 5 --- Use t-SNE to project doc vectors ---\n",
    "# Use t-SNE to project training document embeddings into 2d and \n",
    "# plot them out for each of the above choices. \n",
    "# Each point should have a specific color (represent a particular cluster). \n",
    "# You may need to try different parameters of t-SNE. One can find more details about t-SNE in \n",
    "# this excellent article (https://distill.pub/2016/misread-tsne/ (Links to an external site.)).\n",
    "\n",
    "# Your code"
   ]
  }
 ],
 "metadata": {
  "kernelspec": {
   "display_name": "Python 3 (ipykernel)",
   "language": "python",
   "name": "python3"
  },
  "language_info": {
   "codemirror_mode": {
    "name": "ipython",
    "version": 3
   },
   "file_extension": ".py",
   "mimetype": "text/x-python",
   "name": "python",
   "nbconvert_exporter": "python",
   "pygments_lexer": "ipython3",
   "version": "3.11.0"
  }
 },
 "nbformat": 4,
 "nbformat_minor": 5
}
